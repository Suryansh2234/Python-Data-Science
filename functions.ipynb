{
 "cells": [
  {
   "cell_type": "markdown",
   "id": "624f6668",
   "metadata": {},
   "source": [
    "-- Userdefined Functions\n",
    " - Parameterized Function\n",
    " - non Parameterized Function\n",
    " - return function\n",
    " - non return function\n",
    " - default Parameterized function\n",
    " - Lambda Function"
   ]
  },
  {
   "cell_type": "markdown",
   "id": "663fadf6",
   "metadata": {},
   "source": [
    "- Built in Functions"
   ]
  },
  {
   "cell_type": "code",
   "execution_count": null,
   "id": "dabea922",
   "metadata": {},
   "outputs": [],
   "source": [
    "#non parametrized function\n",
    "def greet(): #function initialize\n",
    "    print(\"hello\")\n",
    "    print(\"how are you\")\n",
    "    print(\"I am good thank you\")"
   ]
  },
  {
   "cell_type": "code",
   "execution_count": 3,
   "id": "028a1ac8",
   "metadata": {},
   "outputs": [
    {
     "name": "stdout",
     "output_type": "stream",
     "text": [
      "hello\n",
      "how are you\n",
      "I am good thank you\n"
     ]
    }
   ],
   "source": [
    "greet() #function calling"
   ]
  },
  {
   "cell_type": "code",
   "execution_count": null,
   "id": "0048fc51",
   "metadata": {},
   "outputs": [
    {
     "name": "stdout",
     "output_type": "stream",
     "text": [
      "15\n"
     ]
    }
   ],
   "source": [
    "#parameterized function\n",
    "def sum(a,b):\n",
    "    print(a+b)\n",
    "\n",
    "\n",
    "sum(10,5) #arguements"
   ]
  },
  {
   "cell_type": "code",
   "execution_count": 5,
   "id": "ac92a9ed",
   "metadata": {},
   "outputs": [],
   "source": [
    "def age(age):\n",
    "    if age>=18:\n",
    "        print(\"Elligible\")\n",
    "    else:\n",
    "        print(\"Not Elligible\")"
   ]
  },
  {
   "cell_type": "code",
   "execution_count": 6,
   "id": "4f3762b8",
   "metadata": {},
   "outputs": [
    {
     "name": "stdout",
     "output_type": "stream",
     "text": [
      "Elligible\n"
     ]
    }
   ],
   "source": [
    "age(22)"
   ]
  },
  {
   "cell_type": "code",
   "execution_count": 7,
   "id": "a8a51ba3",
   "metadata": {},
   "outputs": [
    {
     "name": "stdout",
     "output_type": "stream",
     "text": [
      "Not Elligible\n"
     ]
    }
   ],
   "source": [
    "age(16)"
   ]
  },
  {
   "cell_type": "code",
   "execution_count": 17,
   "id": "59792b48",
   "metadata": {},
   "outputs": [
    {
     "name": "stdout",
     "output_type": "stream",
     "text": [
      "7.5\n"
     ]
    }
   ],
   "source": [
    "#calculate average using function\n",
    "def average(a,b,c):\n",
    "    print(a+b+c/4)\n",
    "avg = average(2,4,6)\n",
    "\n",
    "\n"
   ]
  },
  {
   "cell_type": "code",
   "execution_count": 18,
   "id": "2624fdea",
   "metadata": {},
   "outputs": [
    {
     "name": "stdout",
     "output_type": "stream",
     "text": [
      "None\n"
     ]
    }
   ],
   "source": [
    "print(avg)"
   ]
  },
  {
   "cell_type": "code",
   "execution_count": 3,
   "id": "dea98d0f",
   "metadata": {},
   "outputs": [
    {
     "name": "stdout",
     "output_type": "stream",
     "text": [
      "I love USA\n",
      "I love London\n",
      "I love India\n"
     ]
    }
   ],
   "source": [
    "def myCountry(country='India'):\n",
    "    return \"I love \" + country\n",
    "print(myCountry('USA'))\n",
    "print(myCountry('London'))\n",
    "print(myCountry())"
   ]
  },
  {
   "cell_type": "code",
   "execution_count": 5,
   "id": "1b1ef6ef",
   "metadata": {},
   "outputs": [
    {
     "data": {
      "text/plain": [
       "823543"
      ]
     },
     "execution_count": 5,
     "metadata": {},
     "output_type": "execute_result"
    }
   ],
   "source": [
    "def square(a):\n",
    "    return a**a\n",
    "square(7)"
   ]
  },
  {
   "cell_type": "code",
   "execution_count": 6,
   "id": "1355ccce",
   "metadata": {},
   "outputs": [
    {
     "name": "stdout",
     "output_type": "stream",
     "text": [
      "256\n"
     ]
    }
   ],
   "source": [
    "square = lambda a: a**a\n",
    "print(square(4))"
   ]
  },
  {
   "cell_type": "code",
   "execution_count": 7,
   "id": "5b71f7b0",
   "metadata": {},
   "outputs": [],
   "source": [
    "def number(a):\n",
    "    if a%2==0:\n",
    "        print(\"Even\")\n",
    "    else:\n",
    "        print(\"odd\")\n"
   ]
  },
  {
   "cell_type": "code",
   "execution_count": 8,
   "id": "f6b71816",
   "metadata": {},
   "outputs": [
    {
     "name": "stdout",
     "output_type": "stream",
     "text": [
      "odd\n"
     ]
    }
   ],
   "source": [
    "number(3)"
   ]
  },
  {
   "cell_type": "code",
   "execution_count": 9,
   "id": "0684c71e",
   "metadata": {},
   "outputs": [
    {
     "name": "stdout",
     "output_type": "stream",
     "text": [
      "Even\n"
     ]
    }
   ],
   "source": [
    "number(4)"
   ]
  },
  {
   "cell_type": "code",
   "execution_count": 22,
   "id": "6339ffc9",
   "metadata": {},
   "outputs": [],
   "source": [
    "def prime(n):\n",
    "    if n > 1:\n",
    "        for i in range(2, n):\n",
    "            if (n % i) == 0:\n",
    "                print(n, \"is not a prime number\")\n",
    "                break\n",
    "        else:\n",
    "            print(n, \"is a prime number\")\n",
    "    else:\n",
    "        print(n, \"is not a prime number\")"
   ]
  },
  {
   "cell_type": "code",
   "execution_count": 23,
   "id": "91981816",
   "metadata": {},
   "outputs": [
    {
     "name": "stdout",
     "output_type": "stream",
     "text": [
      "4 is not a prime number\n"
     ]
    }
   ],
   "source": [
    "prime(4)"
   ]
  },
  {
   "cell_type": "code",
   "execution_count": 24,
   "id": "f9204c11",
   "metadata": {},
   "outputs": [],
   "source": [
    "def temp(c):\n",
    "    f = (c*9/5)+32"
   ]
  },
  {
   "cell_type": "code",
   "execution_count": 25,
   "id": "7cd64373",
   "metadata": {},
   "outputs": [],
   "source": [
    "temp(21)"
   ]
  },
  {
   "cell_type": "code",
   "execution_count": null,
   "id": "3b7f11cc",
   "metadata": {},
   "outputs": [],
   "source": []
  }
 ],
 "metadata": {
  "kernelspec": {
   "display_name": "base",
   "language": "python",
   "name": "python3"
  },
  "language_info": {
   "codemirror_mode": {
    "name": "ipython",
    "version": 3
   },
   "file_extension": ".py",
   "mimetype": "text/x-python",
   "name": "python",
   "nbconvert_exporter": "python",
   "pygments_lexer": "ipython3",
   "version": "3.13.2"
  }
 },
 "nbformat": 4,
 "nbformat_minor": 5
}

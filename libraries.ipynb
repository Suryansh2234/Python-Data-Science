{
 "cells": [
  {
   "cell_type": "code",
   "execution_count": 1,
   "id": "183e42f9",
   "metadata": {},
   "outputs": [],
   "source": [
    "import math"
   ]
  },
  {
   "cell_type": "code",
   "execution_count": 2,
   "id": "566f0e43",
   "metadata": {},
   "outputs": [
    {
     "name": "stdout",
     "output_type": "stream",
     "text": [
      "120\n"
     ]
    }
   ],
   "source": [
    "print(math.factorial(5))"
   ]
  },
  {
   "cell_type": "code",
   "execution_count": 4,
   "id": "083cb5f3",
   "metadata": {},
   "outputs": [
    {
     "name": "stdout",
     "output_type": "stream",
     "text": [
      "1\n"
     ]
    }
   ],
   "source": [
    "print(math.gcd(10,5,4,5))"
   ]
  },
  {
   "cell_type": "code",
   "execution_count": 5,
   "id": "3ceac4f6",
   "metadata": {},
   "outputs": [
    {
     "name": "stdout",
     "output_type": "stream",
     "text": [
      "20\n"
     ]
    }
   ],
   "source": [
    "print(math.lcm(10,5,4,5))"
   ]
  },
  {
   "cell_type": "code",
   "execution_count": 6,
   "id": "9ef933d4",
   "metadata": {},
   "outputs": [
    {
     "name": "stdout",
     "output_type": "stream",
     "text": [
      "0.8414709848078965\n"
     ]
    }
   ],
   "source": [
    "print(math.sin(1))"
   ]
  },
  {
   "cell_type": "code",
   "execution_count": 7,
   "id": "bb5d5c74",
   "metadata": {},
   "outputs": [
    {
     "name": "stdout",
     "output_type": "stream",
     "text": [
      "1.5574077246549023\n"
     ]
    }
   ],
   "source": [
    "print(math.tan(1))"
   ]
  },
  {
   "cell_type": "code",
   "execution_count": 9,
   "id": "88c1f3bd",
   "metadata": {},
   "outputs": [
    {
     "name": "stdout",
     "output_type": "stream",
     "text": [
      "3.141592653589793\n"
     ]
    }
   ],
   "source": [
    "print(math.pi)"
   ]
  },
  {
   "cell_type": "code",
   "execution_count": 10,
   "id": "181a30f8",
   "metadata": {},
   "outputs": [],
   "source": [
    "from random import random, randint, choice, shuffle"
   ]
  },
  {
   "cell_type": "code",
   "execution_count": 11,
   "id": "92c17275",
   "metadata": {},
   "outputs": [],
   "source": [
    "import random"
   ]
  },
  {
   "cell_type": "code",
   "execution_count": 17,
   "id": "3fd3efb5",
   "metadata": {},
   "outputs": [
    {
     "name": "stdout",
     "output_type": "stream",
     "text": [
      "0.2230346734656885\n",
      "79\n"
     ]
    }
   ],
   "source": [
    "print(random.random())\n",
    "print(random.randint(2, 100))"
   ]
  },
  {
   "cell_type": "code",
   "execution_count": 19,
   "id": "e79acbac",
   "metadata": {},
   "outputs": [
    {
     "name": "stdout",
     "output_type": "stream",
     "text": [
      "give a number between 1 and 10: 0.8267464026507207\n"
     ]
    }
   ],
   "source": [
    "print(\"give a number between 1 and 10:\",random.random())"
   ]
  },
  {
   "cell_type": "code",
   "execution_count": 23,
   "id": "c221cb07",
   "metadata": {},
   "outputs": [
    {
     "name": "stdout",
     "output_type": "stream",
     "text": [
      "give number between 2 and 8 is 5\n"
     ]
    }
   ],
   "source": [
    "print(\"give number between 2 and 8 is\", random.randint(2,8))"
   ]
  },
  {
   "cell_type": "code",
   "execution_count": 24,
   "id": "8f628e08",
   "metadata": {},
   "outputs": [
    {
     "name": "stdout",
     "output_type": "stream",
     "text": [
      "choose a number from the list: 14\n"
     ]
    }
   ],
   "source": [
    "print(\"choose a number from the list:\", choice([1,2,3,4,5,6,7,8,9,10,11,12,13,14,15,16,17,18,19,20]))"
   ]
  },
  {
   "cell_type": "code",
   "execution_count": 26,
   "id": "19ba90dc",
   "metadata": {},
   "outputs": [
    {
     "name": "stdout",
     "output_type": "stream",
     "text": [
      "shuffled names: ['doe', 'smith', 'john', 'jane']\n"
     ]
    }
   ],
   "source": [
    "name = ['john', 'doe', 'jane', 'smith']\n",
    "shuffle(name)\n",
    "print(\"shuffled names:\", name)"
   ]
  },
  {
   "cell_type": "code",
   "execution_count": 27,
   "id": "318adb74",
   "metadata": {},
   "outputs": [],
   "source": [
    "from datetime import datetime as dt"
   ]
  },
  {
   "cell_type": "code",
   "execution_count": 28,
   "id": "4c970275",
   "metadata": {},
   "outputs": [
    {
     "name": "stdout",
     "output_type": "stream",
     "text": [
      "Current Date and Time: 2025-07-05 18:09:36.412253\n"
     ]
    }
   ],
   "source": [
    "print('Current Date and Time:', dt.now())"
   ]
  },
  {
   "cell_type": "code",
   "execution_count": null,
   "id": "325cae64",
   "metadata": {},
   "outputs": [
    {
     "name": "stdout",
     "output_type": "stream",
     "text": [
      "Current Date: 2025-07-05\n",
      "Current Time: 18:11:28.637321\n"
     ]
    }
   ],
   "source": [
    "print('Current Date:', dt.now().date())\n",
    "print('Current Time:', dt.now().time())"
   ]
  },
  {
   "cell_type": "code",
   "execution_count": 36,
   "id": "4d51149d",
   "metadata": {},
   "outputs": [
    {
     "name": "stdout",
     "output_type": "stream",
     "text": [
      "Current Year: 2025\n",
      "Current Month: 7\n",
      "Current Hour: 18\n",
      "Current Minute: 17\n",
      "Current Second: 16\n",
      "Current WeekDay: 5\n"
     ]
    }
   ],
   "source": [
    "print('Current Year:', dt.now().year)\n",
    "print('Current Month:', dt.now().month)\n",
    "print('Current Hour:', dt.now().hour)\n",
    "print('Current Minute:', dt.now().minute)\n",
    "print('Current Second:', dt.now().second)\n",
    "print('Current WeekDay:', dt.now().weekday())\n"
   ]
  },
  {
   "cell_type": "code",
   "execution_count": 38,
   "id": "0a408a68",
   "metadata": {},
   "outputs": [
    {
     "name": "stdout",
     "output_type": "stream",
     "text": [
      "18:24:28\n"
     ]
    }
   ],
   "source": [
    "time = dt.strftime(dt.now(), '%H:%M:%S')\n",
    "print(time)"
   ]
  },
  {
   "cell_type": "code",
   "execution_count": null,
   "id": "514bdc35",
   "metadata": {},
   "outputs": [],
   "source": []
  }
 ],
 "metadata": {
  "kernelspec": {
   "display_name": "base",
   "language": "python",
   "name": "python3"
  },
  "language_info": {
   "codemirror_mode": {
    "name": "ipython",
    "version": 3
   },
   "file_extension": ".py",
   "mimetype": "text/x-python",
   "name": "python",
   "nbconvert_exporter": "python",
   "pygments_lexer": "ipython3",
   "version": "3.13.2"
  }
 },
 "nbformat": 4,
 "nbformat_minor": 5
}

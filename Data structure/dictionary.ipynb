{
 "cells": [
  {
   "cell_type": "markdown",
   "id": "fde74b67",
   "metadata": {},
   "source": [
    "- how to create a dictionary\n",
    "- how to access pairs in dictionary\n",
    "- how to run a loop in dictonary\n",
    "- how to make nested dictionary\n",
    "- indexing in dictionary"
   ]
  },
  {
   "cell_type": "markdown",
   "id": "4d343341",
   "metadata": {},
   "source": []
  },
  {
   "cell_type": "code",
   "execution_count": 2,
   "id": "3af6ac39",
   "metadata": {},
   "outputs": [
    {
     "name": "stdout",
     "output_type": "stream",
     "text": [
      "{'name': 'Alice', 'age': 16, 'class': 8, 'marks': 33}\n"
     ]
    }
   ],
   "source": [
    "student = {\n",
    "    \"name\" : \"Alice\",\n",
    "    \"age\" : 16,\n",
    "    \"class\" : 8,\n",
    "    \"marks\" : 33\n",
    "}\n",
    "print(student)"
   ]
  },
  {
   "cell_type": "code",
   "execution_count": 6,
   "id": "a8853cb7",
   "metadata": {},
   "outputs": [
    {
     "name": "stdout",
     "output_type": "stream",
     "text": [
      "{'name': 'alice', 'age': 20, 'course': 'mba', 'marks': 43}\n"
     ]
    }
   ],
   "source": [
    "info = dict(name = \"alice\", age = 20, course = \"mba\", marks = 43 )\n",
    "print(info)"
   ]
  },
  {
   "cell_type": "code",
   "execution_count": 7,
   "id": "7f2edf35",
   "metadata": {},
   "outputs": [
    {
     "name": "stdout",
     "output_type": "stream",
     "text": [
      "{'lucknow': [30, 35, 40], 'delhi': [32, 33, 38]}\n"
     ]
    }
   ],
   "source": [
    "temp = {\n",
    "    'lucknow' : [30,35,40],\n",
    "    'delhi' : [32,33,38]\n",
    "}\n",
    "print(temp)"
   ]
  },
  {
   "cell_type": "code",
   "execution_count": null,
   "id": "233537df",
   "metadata": {},
   "outputs": [
    {
     "data": {
      "text/plain": [
       "20"
      ]
     },
     "execution_count": 10,
     "metadata": {},
     "output_type": "execute_result"
    }
   ],
   "source": [
    "# 1st method to acess value through key\n",
    "info['name']\n",
    "info['age']"
   ]
  },
  {
   "cell_type": "code",
   "execution_count": 12,
   "id": "62dcd0aa",
   "metadata": {},
   "outputs": [
    {
     "data": {
      "text/plain": [
       "'mba'"
      ]
     },
     "execution_count": 12,
     "metadata": {},
     "output_type": "execute_result"
    }
   ],
   "source": [
    "#2nd method\n",
    "info.get(\"name\")\n",
    "info.get(\"course\")\n"
   ]
  },
  {
   "cell_type": "code",
   "execution_count": 13,
   "id": "a4ac1626",
   "metadata": {},
   "outputs": [
    {
     "name": "stdout",
     "output_type": "stream",
     "text": [
      "{'name': 'alice', 'age': 20, 'course': 'mba', 'marks': 43, 'city': 'lucknow'}\n"
     ]
    }
   ],
   "source": [
    "#adding new key and value pair in the dictionary\n",
    "info['city'] = \"lucknow\"\n",
    "print(info)"
   ]
  },
  {
   "cell_type": "code",
   "execution_count": null,
   "id": "15484429",
   "metadata": {},
   "outputs": [],
   "source": []
  }
 ],
 "metadata": {
  "kernelspec": {
   "display_name": "base",
   "language": "python",
   "name": "python3"
  },
  "language_info": {
   "codemirror_mode": {
    "name": "ipython",
    "version": 3
   },
   "file_extension": ".py",
   "mimetype": "text/x-python",
   "name": "python",
   "nbconvert_exporter": "python",
   "pygments_lexer": "ipython3",
   "version": "3.13.2"
  }
 },
 "nbformat": 4,
 "nbformat_minor": 5
}

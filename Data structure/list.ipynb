{
 "cells": [
  {
   "cell_type": "code",
   "execution_count": 21,
   "id": "087925dd",
   "metadata": {},
   "outputs": [
    {
     "name": "stdout",
     "output_type": "stream",
     "text": [
      "['instagram', 'facebook', 'twitter', 'tiktok', 'snapchat', 'youtube', 'pubg', 'fortnite', 'callofduty', 'clashofclans', 'boat', 'gpay', 'netflix']\n"
     ]
    }
   ],
   "source": [
    "apps = ['instagram', 'facebook', 'twitter', 'tiktok', 'snapchat', 'youtube', 'pubg', 'fortnite', 'callofduty', 'clashofclans', 'boat', 'gpay', 'netflix']\n",
    "print(apps)"
   ]
  },
  {
   "cell_type": "markdown",
   "id": "5e58f4ed",
   "metadata": {},
   "source": [
    "- indexing and slicing"
   ]
  },
  {
   "cell_type": "code",
   "execution_count": 22,
   "id": "752313c9",
   "metadata": {},
   "outputs": [
    {
     "name": "stdout",
     "output_type": "stream",
     "text": [
      "tiktok\n",
      "youtube\n",
      "netflix\n",
      "fortnite\n",
      "clashofclans\n"
     ]
    }
   ],
   "source": [
    "print(apps[3])\n",
    "print(apps[5])\n",
    "print(apps[12])\n",
    "print(apps[7])\n",
    "print(apps[-4])\n"
   ]
  },
  {
   "cell_type": "code",
   "execution_count": 23,
   "id": "22c41c1b",
   "metadata": {},
   "outputs": [
    {
     "name": "stdout",
     "output_type": "stream",
     "text": [
      "['twitter', 'tiktok', 'snapchat', 'youtube', 'pubg', 'fortnite']\n",
      "['facebook', 'tiktok', 'youtube']\n",
      "['instagram', 'facebook', 'twitter', 'tiktok', 'snapchat', 'youtube', 'pubg', 'fortnite', 'callofduty', 'clashofclans', 'boat', 'gpay', 'netflix']\n"
     ]
    }
   ],
   "source": [
    "print(apps[2:8])\n",
    "print(apps[1:7:2])\n",
    "print(apps[:])"
   ]
  },
  {
   "cell_type": "code",
   "execution_count": 24,
   "id": "96c01b02",
   "metadata": {},
   "outputs": [
    {
     "name": "stdout",
     "output_type": "stream",
     "text": [
      "['facebook', 'tiktok', 'youtube']\n",
      "[]\n"
     ]
    }
   ],
   "source": [
    "print(apps[1:7:2])\n",
    "print(apps[-1:-4])"
   ]
  },
  {
   "cell_type": "markdown",
   "id": "0e6771a3",
   "metadata": {},
   "source": [
    "- List METHOD\n",
    "- append() - to add item at the end of the list\n",
    "\n",
    "- insert() - to add item at any specific position in the list\n",
    "\n",
    "- pop() - to delete item using its index position\n",
    "\n",
    "- remove() - to delete items using item name\n",
    "\n",
    "- copy() - to make a duplicate of the list\n",
    "\n",
    "- sort() - to sort the list in a particular order\n",
    "\n",
    "- extend() - to combine two list into a single list\n",
    "\n",
    "- clear() - to delete all the items from the list but not the list\n"
   ]
  },
  {
   "cell_type": "code",
   "execution_count": 25,
   "id": "89b946cd",
   "metadata": {},
   "outputs": [
    {
     "name": "stdout",
     "output_type": "stream",
     "text": [
      "['instagram', 'facebook', 'twitter', 'tiktok', 'snapchat', 'youtube', 'pubg', 'fortnite', 'callofduty', 'clashofclans', 'boat', 'gpay', 'netflix', 'amazon']\n"
     ]
    }
   ],
   "source": [
    "apps.append('amazon')\n",
    "print(apps)"
   ]
  },
  {
   "cell_type": "code",
   "execution_count": 26,
   "id": "ea5e0153",
   "metadata": {},
   "outputs": [
    {
     "name": "stdout",
     "output_type": "stream",
     "text": [
      "['instagram', 'facebook', 'twitter', 'tiktok', 'snapchat', 'youtube', 'god of war', 'pubg', 'fortnite', 'callofduty', 'clashofclans', 'boat', 'gpay', 'netflix', 'amazon']\n"
     ]
    }
   ],
   "source": [
    "apps.insert(6, 'god of war')\n",
    "print(apps)"
   ]
  },
  {
   "cell_type": "markdown",
   "id": "e24dbfe1",
   "metadata": {},
   "source": []
  },
  {
   "cell_type": "code",
   "execution_count": 27,
   "id": "f2bda887",
   "metadata": {},
   "outputs": [
    {
     "name": "stdout",
     "output_type": "stream",
     "text": [
      "['instagram', 'facebook', 'tiktok', 'snapchat', 'youtube', 'god of war', 'pubg', 'fortnite', 'callofduty', 'clashofclans', 'boat', 'gpay', 'netflix', 'amazon']\n"
     ]
    }
   ],
   "source": [
    "apps.pop(2)\n",
    "print(apps)"
   ]
  },
  {
   "cell_type": "code",
   "execution_count": 28,
   "id": "6183b694",
   "metadata": {},
   "outputs": [
    {
     "name": "stdout",
     "output_type": "stream",
     "text": [
      "['instagram', 'facebook', 'snapchat', 'youtube', 'god of war', 'pubg', 'fortnite', 'callofduty', 'clashofclans', 'boat', 'gpay', 'netflix', 'amazon']\n"
     ]
    }
   ],
   "source": [
    "apps.remove('tiktok')\n",
    "print(apps)"
   ]
  },
  {
   "cell_type": "code",
   "execution_count": 29,
   "id": "6862a89f",
   "metadata": {},
   "outputs": [
    {
     "name": "stdout",
     "output_type": "stream",
     "text": [
      "['instagram', 'facebook', 'snapchat', 'youtube', 'god of war', 'pubg', 'fortnite', 'callofduty', 'clashofclans', 'boat', 'gpay', 'netflix', 'amazon']\n"
     ]
    }
   ],
   "source": [
    "copy_apps = apps.copy()\n",
    "print(copy_apps)"
   ]
  },
  {
   "cell_type": "code",
   "execution_count": 34,
   "id": "68c25bf2",
   "metadata": {},
   "outputs": [
    {
     "name": "stdout",
     "output_type": "stream",
     "text": [
      "[]\n"
     ]
    }
   ],
   "source": [
    "copy_apps.clear()\n",
    "print(copy_apps)"
   ]
  },
  {
   "cell_type": "code",
   "execution_count": 35,
   "id": "9c92ed8f",
   "metadata": {},
   "outputs": [
    {
     "name": "stdout",
     "output_type": "stream",
     "text": [
      "['amazon', 'boat', 'callofduty', 'clashofclans', 'facebook', 'fortnite', 'god of war', 'gpay', 'instagram', 'netflix', 'pubg', 'snapchat', 'youtube']\n"
     ]
    }
   ],
   "source": [
    "apps.sort()\n",
    "print(apps)"
   ]
  },
  {
   "cell_type": "code",
   "execution_count": 36,
   "id": "6f5f481f",
   "metadata": {},
   "outputs": [
    {
     "name": "stdout",
     "output_type": "stream",
     "text": [
      "['dotasks', 'linkedin', 'freelencer']\n"
     ]
    }
   ],
   "source": [
    "apps2 = ['dotasks', 'linkedin', 'freelencer']\n",
    "print(apps2)\n"
   ]
  },
  {
   "cell_type": "code",
   "execution_count": 37,
   "id": "7fafe5f5",
   "metadata": {},
   "outputs": [
    {
     "name": "stdout",
     "output_type": "stream",
     "text": [
      "['amazon', 'boat', 'callofduty', 'clashofclans', 'facebook', 'fortnite', 'god of war', 'gpay', 'instagram', 'netflix', 'pubg', 'snapchat', 'youtube', 'dotasks', 'linkedin', 'freelencer']\n"
     ]
    }
   ],
   "source": [
    "apps.extend(apps2)\n",
    "print(apps)"
   ]
  },
  {
   "cell_type": "code",
   "execution_count": 38,
   "id": "9401d79f",
   "metadata": {},
   "outputs": [
    {
     "name": "stdout",
     "output_type": "stream",
     "text": [
      "['dotasks', 'linkedin', 'freelencer', 'amazon', 'boat', 'callofduty', 'clashofclans', 'facebook', 'fortnite', 'god of war', 'gpay', 'instagram', 'netflix', 'pubg', 'snapchat', 'youtube', 'dotasks', 'linkedin', 'freelencer']\n"
     ]
    }
   ],
   "source": [
    "apps2.extend(apps)\n",
    "print(apps2)"
   ]
  },
  {
   "cell_type": "code",
   "execution_count": null,
   "id": "6873941b",
   "metadata": {},
   "outputs": [],
   "source": []
  },
  {
   "cell_type": "code",
   "execution_count": null,
   "id": "2065593d",
   "metadata": {},
   "outputs": [],
   "source": []
  }
 ],
 "metadata": {
  "kernelspec": {
   "display_name": "base",
   "language": "python",
   "name": "python3"
  },
  "language_info": {
   "codemirror_mode": {
    "name": "ipython",
    "version": 3
   },
   "file_extension": ".py",
   "mimetype": "text/x-python",
   "name": "python",
   "nbconvert_exporter": "python",
   "pygments_lexer": "ipython3",
   "version": "3.13.2"
  }
 },
 "nbformat": 4,
 "nbformat_minor": 5
}

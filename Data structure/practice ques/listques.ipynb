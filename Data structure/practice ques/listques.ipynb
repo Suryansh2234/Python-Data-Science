{
 "cells": [
  {
   "cell_type": "code",
   "execution_count": null,
   "id": "761824ce",
   "metadata": {},
   "outputs": [
    {
     "name": "stdout",
     "output_type": "stream",
     "text": [
      "[2, 3, 4]\n"
     ]
    }
   ],
   "source": [
    "#Write a program that creates an empty list and then asks the user to input integers to add to the list. Print the final list.\n",
    "number = [int(input(\"enter a number\")),int(input(\"enter a number\")),int(input(\"enter a number\"))]\n",
    "print(number)"
   ]
  },
  {
   "cell_type": "code",
   "execution_count": 2,
   "id": "d3be499d",
   "metadata": {},
   "outputs": [
    {
     "name": "stdout",
     "output_type": "stream",
     "text": [
      "Integer is not in the list\n"
     ]
    }
   ],
   "source": [
    "#Write a program that creates a list of integers and then asks the user to input an integer to check if it exists in the list. Print a message indicating whether the integer is in the list or not.\n",
    "a = [2,3,4,5,6,7]\n",
    "b = int(input('enter a number'))\n",
    "if b in a:\n",
    "    print(\"Integer is in the list\")\n",
    "else:\n",
    "    print(\"Integer is not in the list\")"
   ]
  },
  {
   "cell_type": "code",
   "execution_count": 4,
   "id": "97e96507",
   "metadata": {},
   "outputs": [
    {
     "name": "stdout",
     "output_type": "stream",
     "text": [
      "['apple', 'bike', 'car', 'joe', 'tree']\n"
     ]
    }
   ],
   "source": [
    "#Write a program that creates a list of strings and then sorts the list alphabetically. Print the sorted list.\n",
    "n = ['joe', 'apple', 'car', 'bike', 'tree']\n",
    "n.sort()\n",
    "print(n)\n"
   ]
  },
  {
   "cell_type": "code",
   "execution_count": null,
   "id": "16cd4120",
   "metadata": {},
   "outputs": [],
   "source": []
  }
 ],
 "metadata": {
  "kernelspec": {
   "display_name": "base",
   "language": "python",
   "name": "python3"
  },
  "language_info": {
   "codemirror_mode": {
    "name": "ipython",
    "version": 3
   },
   "file_extension": ".py",
   "mimetype": "text/x-python",
   "name": "python",
   "nbconvert_exporter": "python",
   "pygments_lexer": "ipython3",
   "version": "3.13.2"
  }
 },
 "nbformat": 4,
 "nbformat_minor": 5
}

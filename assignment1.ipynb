{
 "cells": [
  {
   "cell_type": "code",
   "execution_count": 7,
   "id": "2d0ed4cd",
   "metadata": {},
   "outputs": [
    {
     "name": "stdout",
     "output_type": "stream",
     "text": [
      "no sides are equal\n"
     ]
    }
   ],
   "source": [
    "#check two sides of a triangle is equal or not\n",
    "a = int(input(\"Enter side a of triangle:\"))\n",
    "b = int(input(\"Enter side b of triangle:\"))\n",
    "c = int(input(\"Enter side c of triangle:\"))\n",
    "if a==b or a==c or b==c:\n",
    "    print(\"two sides are equal\")\n",
    "else:\n",
    "    print(\"no sides are equal\")\n",
    " \n",
    "\n",
    "    \n",
    "\n",
    "\n"
   ]
  },
  {
   "cell_type": "code",
   "execution_count": 5,
   "id": "8acc4a99",
   "metadata": {},
   "outputs": [
    {
     "name": "stdout",
     "output_type": "stream",
     "text": [
      "It is vowel\n"
     ]
    }
   ],
   "source": [
    "#check whether the character is vowel or not\n",
    "ch = input(\"Enter a character: \")\n",
    "if ch in 'aeiou' or ch in 'AEIOU':\n",
    "    print(\"It is vowel\")\n",
    "else:\n",
    "    print(\"It is not a vowel\")\n",
    "    "
   ]
  },
  {
   "cell_type": "code",
   "execution_count": 2,
   "id": "13a3c1e3",
   "metadata": {},
   "outputs": [
    {
     "name": "stdout",
     "output_type": "stream",
     "text": [
      "It is not a leap year\n"
     ]
    }
   ],
   "source": [
    "#check whether a yera is leap year or not\n",
    "year = int(input(\"Enter a year: \"))\n",
    "if (year % 4 == 0 and year % 100 != 0) or (year % 400 == 0):\n",
    "    print(\"It is a leap year\")\n",
    "else:\n",
    "    print(\"It is not a leap year\")\n",
    "    "
   ]
  },
  {
   "cell_type": "code",
   "execution_count": null,
   "id": "f61ec02a",
   "metadata": {},
   "outputs": [
    {
     "name": "stdout",
     "output_type": "stream",
     "text": [
      "It is a scalene triangle\n"
     ]
    }
   ],
   "source": [
    "# check whether a triangle is equilateral, isosceles or scalene\n",
    "\n",
    "a=int(input(\"side a : \"))\n",
    "b=int(input(\"base: \"))\n",
    "c=int(input(\"side c: \"))\n",
    "if a == b == c:\n",
    "    print(\"It is an equilateral triangle\")\n",
    "elif a == b or a == c or b == c:\n",
    "    print(\"It is an isoceles triangle\")\n",
    "else:\n",
    "    print(\"It is a scalene triangle\")\n",
    "    \n",
    "\n",
    "\n"
   ]
  },
  {
   "cell_type": "code",
   "execution_count": 5,
   "id": "2a33c651",
   "metadata": {},
   "outputs": [
    {
     "name": "stdout",
     "output_type": "stream",
     "text": [
      "it is odd\n"
     ]
    }
   ],
   "source": [
    "# check whether a number is even or odd\n",
    "a = int(input(\"Enter a number:\"))\n",
    "if a%2 == 0:\n",
    "    print(\"it is even\")\n",
    "else:\n",
    "    print(\"it is odd\")\n"
   ]
  },
  {
   "cell_type": "code",
   "execution_count": 15,
   "id": "9533fbaa",
   "metadata": {},
   "outputs": [
    {
     "name": "stdout",
     "output_type": "stream",
     "text": [
      "gross salary is: 57500.0\n"
     ]
    }
   ],
   "source": [
    "# calculate gross salary\n",
    "basic_sal = 50000\n",
    "hra = 0.05 * basic_sal\n",
    "da = 0.10 * basic_sal\n",
    "gross_sal = basic_sal + hra + da\n",
    "print(\"gross salary is:\", gross_sal)\n"
   ]
  },
  {
   "cell_type": "code",
   "execution_count": null,
   "id": "0fe7f166",
   "metadata": {},
   "outputs": [],
   "source": []
  }
 ],
 "metadata": {
  "kernelspec": {
   "display_name": "base",
   "language": "python",
   "name": "python3"
  },
  "language_info": {
   "codemirror_mode": {
    "name": "ipython",
    "version": 3
   },
   "file_extension": ".py",
   "mimetype": "text/x-python",
   "name": "python",
   "nbconvert_exporter": "python",
   "pygments_lexer": "ipython3",
   "version": "3.13.2"
  }
 },
 "nbformat": 4,
 "nbformat_minor": 5
}

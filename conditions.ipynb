{
 "cells": [
  {
   "cell_type": "code",
   "execution_count": 2,
   "id": "d1478d7a",
   "metadata": {},
   "outputs": [
    {
     "name": "stdout",
     "output_type": "stream",
     "text": [
      "yess\n",
      "hello\n"
     ]
    }
   ],
   "source": [
    "a=20\n",
    "if a<30:\n",
    "    print(\"yess\")\n",
    "    print(\"hello\")"
   ]
  },
  {
   "cell_type": "code",
   "execution_count": 6,
   "id": "ce1c99b0",
   "metadata": {},
   "outputs": [
    {
     "name": "stdout",
     "output_type": "stream",
     "text": [
      "A\n",
      "B\n"
     ]
    }
   ],
   "source": [
    "marks = 85\n",
    "if marks >=90:\n",
    "    print(\"A+\")\n",
    "if marks >=80:\n",
    "    print(\"A\")\n",
    "if marks >=60:\n",
    "    print(\"B\")\n",
    "if marks <60:\n",
    "    print(\"Fail\")\n",
    "    \n"
   ]
  },
  {
   "cell_type": "code",
   "execution_count": 8,
   "id": "8e327eb7",
   "metadata": {},
   "outputs": [
    {
     "name": "stdout",
     "output_type": "stream",
     "text": [
      "A\n"
     ]
    }
   ],
   "source": [
    "marks = 85\n",
    "if marks >=90:\n",
    "    print(\"A+\")\n",
    "elif marks >=80:\n",
    "    print(\"A\")\n",
    "elif marks >=60:\n",
    "    print(\"B\")\n",
    "elif marks <60:\n",
    "    print(\"Fail\")\n",
    "else:\n",
    "    print(\"invalid makrs\")\n",
    "    \n"
   ]
  },
  {
   "cell_type": "code",
   "execution_count": 9,
   "id": "9dc6f168",
   "metadata": {},
   "outputs": [
    {
     "name": "stdout",
     "output_type": "stream",
     "text": [
      "invalid makrs\n"
     ]
    }
   ],
   "source": [
    "marks = 85\n",
    "if marks >=90:\n",
    "    print(\"A+\")\n",
    "elif marks <=80:\n",
    "    print(\"A\")\n",
    "elif marks <=60:\n",
    "    print(\"B\")\n",
    "elif marks <60:\n",
    "    print(\"Fail\")\n",
    "else:\n",
    "    print(\"invalid makrs\")\n",
    "    \n"
   ]
  },
  {
   "cell_type": "code",
   "execution_count": 10,
   "id": "7e3e9db6",
   "metadata": {},
   "outputs": [
    {
     "name": "stdout",
     "output_type": "stream",
     "text": [
      "elligible\n"
     ]
    }
   ],
   "source": [
    "age = 20\n",
    "if age >=18:\n",
    "    print(\"elligible\")\n",
    "else:\n",
    "    print(\"not elligible\")"
   ]
  },
  {
   "cell_type": "code",
   "execution_count": 11,
   "id": "8a40bab8",
   "metadata": {},
   "outputs": [
    {
     "name": "stdout",
     "output_type": "stream",
     "text": [
      "not elligible\n"
     ]
    }
   ],
   "source": [
    "age = 16\n",
    "if age >=18:\n",
    "    print(\"elligible\")\n",
    "else:\n",
    "    print(\"not elligible\")"
   ]
  },
  {
   "cell_type": "markdown",
   "id": "f3f7a6cd",
   "metadata": {},
   "source": [
    "- Nested if"
   ]
  },
  {
   "cell_type": "code",
   "execution_count": 5,
   "id": "3b51f2ac",
   "metadata": {},
   "outputs": [
    {
     "name": "stdout",
     "output_type": "stream",
     "text": [
      "Registration successful\n"
     ]
    }
   ],
   "source": [
    "# login pprogram\n",
    "username = input(\"Enter username: \")\n",
    "email = input(\"Enter email: \")\n",
    "password = input(\"Enter password: \")\n",
    "cpassword = input(\"confirm password: \")\n",
    "if len(username)>=8 and len(username)<=20:\n",
    "    if '@' in email and len(email)>=8:\n",
    "        if len(password)>=10 and len(password)<=20:\n",
    "            if password == cpassword:\n",
    "                print(\"Registration successful\")\n",
    "            else:\n",
    "                print(\"Password mismatch😭\")\n",
    "        else:\n",
    "            print(\"Password must be between 10 and 20 characters\")  \n",
    "    else:\n",
    "        print(\"Invalid email format\")\n",
    "else:\n",
    "    print(\"Username must be between 8 and 20 characters\")"
   ]
  },
  {
   "cell_type": "code",
   "execution_count": null,
   "id": "357565dc",
   "metadata": {},
   "outputs": [],
   "source": []
  }
 ],
 "metadata": {
  "kernelspec": {
   "display_name": "base",
   "language": "python",
   "name": "python3"
  },
  "language_info": {
   "codemirror_mode": {
    "name": "ipython",
    "version": 3
   },
   "file_extension": ".py",
   "mimetype": "text/x-python",
   "name": "python",
   "nbconvert_exporter": "python",
   "pygments_lexer": "ipython3",
   "version": "3.13.2"
  }
 },
 "nbformat": 4,
 "nbformat_minor": 5
}

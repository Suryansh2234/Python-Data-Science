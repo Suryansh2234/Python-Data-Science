{
 "cells": [
  {
   "cell_type": "markdown",
   "id": "60aa4ff6",
   "metadata": {},
   "source": []
  },
  {
   "cell_type": "markdown",
   "id": "0700a0e6",
   "metadata": {},
   "source": [
    "heading \n",
    "# heading\n",
    "###### heading"
   ]
  },
  {
   "cell_type": "markdown",
   "id": "4f9e4edf",
   "metadata": {},
   "source": [
    "- point1\n",
    "    - subpoint1 \n",
    "    - subpoint2 \n",
    "    - subpoint3\n",
    "- point2"
   ]
  },
  {
   "cell_type": "code",
   "execution_count": 1,
   "id": "a358e639",
   "metadata": {},
   "outputs": [
    {
     "name": "stdout",
     "output_type": "stream",
     "text": [
      "sum of 10 and 5 is 15\n"
     ]
    }
   ],
   "source": [
    "a = 10\n",
    "b = 5\n",
    "sum = a+b\n",
    "print(f\"sum of {a} and {b} is {sum}\")"
   ]
  },
  {
   "cell_type": "code",
   "execution_count": 5,
   "id": "8d05f893",
   "metadata": {},
   "outputs": [
    {
     "name": "stdout",
     "output_type": "stream",
     "text": [
      "True\n"
     ]
    }
   ],
   "source": [
    "a=5\n",
    "b= 10\n",
    "z = a+b >12\n",
    "print(z)\n"
   ]
  },
  {
   "cell_type": "code",
   "execution_count": null,
   "id": "12bf86f6",
   "metadata": {},
   "outputs": [],
   "source": []
  }
 ],
 "metadata": {
  "kernelspec": {
   "display_name": "base",
   "language": "python",
   "name": "python3"
  },
  "language_info": {
   "codemirror_mode": {
    "name": "ipython",
    "version": 3
   },
   "file_extension": ".py",
   "mimetype": "text/x-python",
   "name": "python",
   "nbconvert_exporter": "python",
   "pygments_lexer": "ipython3",
   "version": "3.13.2"
  }
 },
 "nbformat": 4,
 "nbformat_minor": 5
}

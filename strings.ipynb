{
 "cells": [
  {
   "cell_type": "code",
   "execution_count": 3,
   "id": "12c1fb2c",
   "metadata": {},
   "outputs": [
    {
     "name": "stdout",
     "output_type": "stream",
     "text": [
      "My name is Suryansh Tripathi\n"
     ]
    }
   ],
   "source": [
    "name = 'My name is Suryansh Tripathi'\n",
    "print(name)"
   ]
  },
  {
   "cell_type": "code",
   "execution_count": 4,
   "id": "b76ba25e",
   "metadata": {},
   "outputs": [
    {
     "name": "stdout",
     "output_type": "stream",
     "text": [
      "r\n"
     ]
    }
   ],
   "source": [
    "print(name[21])"
   ]
  },
  {
   "cell_type": "code",
   "execution_count": null,
   "id": "fea7a525",
   "metadata": {},
   "outputs": [
    {
     "name": "stdout",
     "output_type": "stream",
     "text": [
      "2030\n"
     ]
    }
   ],
   "source": [
    "#string concatation\n",
    "a = '20'\n",
    "b = '30'\n",
    "print(a+b)"
   ]
  },
  {
   "cell_type": "code",
   "execution_count": 6,
   "id": "ef6f840e",
   "metadata": {},
   "outputs": [
    {
     "name": "stdout",
     "output_type": "stream",
     "text": [
      "hihihihihi\n"
     ]
    }
   ],
   "source": [
    "#string duplication\n",
    "a = 'hi'\n",
    "print(a*5)"
   ]
  },
  {
   "cell_type": "code",
   "execution_count": 7,
   "id": "2919590c",
   "metadata": {},
   "outputs": [
    {
     "data": {
      "text/plain": [
       "'BEAUTIFUL'"
      ]
     },
     "execution_count": 7,
     "metadata": {},
     "output_type": "execute_result"
    }
   ],
   "source": [
    "word = 'beautiful'\n",
    "word.upper()"
   ]
  },
  {
   "cell_type": "code",
   "execution_count": 9,
   "id": "33355043",
   "metadata": {},
   "outputs": [
    {
     "data": {
      "text/plain": [
       "'beautiful'"
      ]
     },
     "execution_count": 9,
     "metadata": {},
     "output_type": "execute_result"
    }
   ],
   "source": [
    "word.lower()"
   ]
  },
  {
   "cell_type": "code",
   "execution_count": 10,
   "id": "ff2a241c",
   "metadata": {},
   "outputs": [
    {
     "data": {
      "text/plain": [
       "'Beautiful'"
      ]
     },
     "execution_count": 10,
     "metadata": {},
     "output_type": "execute_result"
    }
   ],
   "source": [
    "word.capitalize()"
   ]
  },
  {
   "cell_type": "code",
   "execution_count": 12,
   "id": "da4477fe",
   "metadata": {},
   "outputs": [
    {
     "name": "stdout",
     "output_type": "stream",
     "text": [
      "jhony jhony yess papa\n",
      "eating sugar no papa\n",
      "telling a lie no papa\n",
      "open your mouth hahaha \n"
     ]
    }
   ],
   "source": [
    "poem = '''jhony jhony yess papa\n",
    "eating sugar no papa\n",
    "telling a lie no papa\n",
    "open your mouth hahaha '''\n",
    "print(poem)"
   ]
  },
  {
   "cell_type": "code",
   "execution_count": 13,
   "id": "64c5c38e",
   "metadata": {},
   "outputs": [
    {
     "data": {
      "text/plain": [
       "17"
      ]
     },
     "execution_count": 13,
     "metadata": {},
     "output_type": "execute_result"
    }
   ],
   "source": [
    "poem.find('papa')"
   ]
  },
  {
   "cell_type": "code",
   "execution_count": 15,
   "id": "9e7e8052",
   "metadata": {},
   "outputs": [
    {
     "name": "stdout",
     "output_type": "stream",
     "text": [
      "jhony jhony yess fufa\n",
      "eating fish no fufa\n",
      "telling a lie no fufa\n",
      "open your mouth hahaha \n"
     ]
    }
   ],
   "source": [
    "p = poem.replace('papa','fufa').replace('sugar','fish')\n",
    "print(p)"
   ]
  },
  {
   "cell_type": "code",
   "execution_count": 16,
   "id": "d9f9e944",
   "metadata": {},
   "outputs": [
    {
     "name": "stdout",
     "output_type": "stream",
     "text": [
      "my name is alice\n"
     ]
    }
   ],
   "source": [
    "name = 'my name is alice'\n",
    "print(name)"
   ]
  },
  {
   "cell_type": "code",
   "execution_count": 17,
   "id": "dc572075",
   "metadata": {},
   "outputs": [
    {
     "data": {
      "text/plain": [
       "['my', 'name', 'is', 'alice']"
      ]
     },
     "execution_count": 17,
     "metadata": {},
     "output_type": "execute_result"
    }
   ],
   "source": [
    "name.split()"
   ]
  },
  {
   "cell_type": "code",
   "execution_count": 18,
   "id": "d21e8705",
   "metadata": {},
   "outputs": [
    {
     "data": {
      "text/plain": [
       "['jhony jhony yess fufa',\n",
       " 'eating fish no fufa',\n",
       " 'telling a lie no fufa',\n",
       " 'open your mouth hahaha ']"
      ]
     },
     "execution_count": 18,
     "metadata": {},
     "output_type": "execute_result"
    }
   ],
   "source": [
    "p.splitlines()"
   ]
  },
  {
   "cell_type": "code",
   "execution_count": null,
   "id": "30fc5531",
   "metadata": {},
   "outputs": [],
   "source": []
  }
 ],
 "metadata": {
  "kernelspec": {
   "display_name": "base",
   "language": "python",
   "name": "python3"
  },
  "language_info": {
   "codemirror_mode": {
    "name": "ipython",
    "version": 3
   },
   "file_extension": ".py",
   "mimetype": "text/x-python",
   "name": "python",
   "nbconvert_exporter": "python",
   "pygments_lexer": "ipython3",
   "version": "3.13.2"
  }
 },
 "nbformat": 4,
 "nbformat_minor": 5
}

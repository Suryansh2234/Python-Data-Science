{
 "cells": [
  {
   "cell_type": "code",
   "execution_count": 1,
   "id": "0fb848dd",
   "metadata": {},
   "outputs": [],
   "source": [
    "import numpy as np\n"
   ]
  },
  {
   "cell_type": "code",
   "execution_count": 2,
   "id": "0798710f",
   "metadata": {},
   "outputs": [
    {
     "name": "stdout",
     "output_type": "stream",
     "text": [
      "[1 2 3 4 5]\n"
     ]
    }
   ],
   "source": [
    "a = np.array([1, 2, 3, 4, 5])\n",
    "print(a)"
   ]
  },
  {
   "cell_type": "code",
   "execution_count": 3,
   "id": "d21c1573",
   "metadata": {},
   "outputs": [
    {
     "name": "stdout",
     "output_type": "stream",
     "text": [
      "[[ 1  2  3  4  5]\n",
      " [ 6  7  8  9 10]]\n"
     ]
    }
   ],
   "source": [
    "#create a 2D array  \n",
    "a2 = np.array([[1, 2, 3,4,5], [6,7,8,9,10]])\n",
    "print(a2)"
   ]
  },
  {
   "cell_type": "code",
   "execution_count": 4,
   "id": "abd3fda5",
   "metadata": {},
   "outputs": [
    {
     "name": "stdout",
     "output_type": "stream",
     "text": [
      "[[[ 1  2  3]\n",
      "  [ 4  5  6]]\n",
      "\n",
      " [[ 7  8  9]\n",
      "  [10 11 12]]]\n"
     ]
    }
   ],
   "source": [
    "#creating a 3d array\n",
    "a3 = np.array([[[1, 2, 3], [4, 5, 6]], [[7, 8, 9], [10, 11, 12]]])\n",
    "print(a3)"
   ]
  },
  {
   "cell_type": "code",
   "execution_count": 5,
   "id": "bf690b08",
   "metadata": {},
   "outputs": [
    {
     "name": "stdout",
     "output_type": "stream",
     "text": [
      "(2, 5)\n",
      "2\n",
      "int64\n"
     ]
    }
   ],
   "source": [
    "print(a2.shape)\n",
    "print(a2.ndim)\n",
    "print(a2.dtype)"
   ]
  },
  {
   "cell_type": "code",
   "execution_count": 6,
   "id": "59581b8a",
   "metadata": {},
   "outputs": [
    {
     "data": {
      "text/plain": [
       "array([1, 3, 5, 7, 9])"
      ]
     },
     "execution_count": 6,
     "metadata": {},
     "output_type": "execute_result"
    }
   ],
   "source": [
    "np.arange(10)\n",
    "np.arange(1,11)\n",
    "np.arange(1,11,2)"
   ]
  },
  {
   "cell_type": "code",
   "execution_count": 7,
   "id": "7f48bb63",
   "metadata": {},
   "outputs": [
    {
     "data": {
      "text/plain": [
       "array([[ 3,  7,  3],\n",
       "       [ 5, 10,  6]], dtype=int32)"
      ]
     },
     "execution_count": 7,
     "metadata": {},
     "output_type": "execute_result"
    }
   ],
   "source": [
    "np.random.randint(1,11, size=(2,3))"
   ]
  },
  {
   "cell_type": "code",
   "execution_count": 8,
   "id": "d62e964d",
   "metadata": {},
   "outputs": [
    {
     "name": "stdout",
     "output_type": "stream",
     "text": [
      "[[7 2 3]\n",
      " [4 5 6]\n",
      " [1 8 9]]\n",
      "[[1 2 3]\n",
      " [4 5 6]\n",
      " [7 8 9]]\n"
     ]
    }
   ],
   "source": [
    "x = np.array([[7,2,3],\n",
    "              [4,5,6],\n",
    "              [1,8,9]])\n",
    "y = np.array([[1,2,3],\n",
    "              [4,5,6],\n",
    "              [7,8,9]])\n",
    "print(x)\n",
    "print(y)"
   ]
  },
  {
   "cell_type": "code",
   "execution_count": 9,
   "id": "d2e4af29",
   "metadata": {},
   "outputs": [
    {
     "name": "stdout",
     "output_type": "stream",
     "text": [
      "[[ 7  4  9]\n",
      " [16 25 36]\n",
      " [ 7 64 81]]\n"
     ]
    }
   ],
   "source": [
    "print(x*y)\n",
    "\n"
   ]
  },
  {
   "cell_type": "code",
   "execution_count": 10,
   "id": "e8ad4c9a",
   "metadata": {},
   "outputs": [
    {
     "name": "stdout",
     "output_type": "stream",
     "text": [
      "[[ 36  48  60]\n",
      " [ 66  81  96]\n",
      " [ 96 114 132]]\n"
     ]
    }
   ],
   "source": [
    "print(x@y) #matrix multiplication\n"
   ]
  },
  {
   "cell_type": "code",
   "execution_count": 11,
   "id": "5b4d007b",
   "metadata": {},
   "outputs": [
    {
     "data": {
      "text/plain": [
       "array([[ 36,  48,  60],\n",
       "       [ 66,  81,  96],\n",
       "       [ 96, 114, 132]])"
      ]
     },
     "execution_count": 11,
     "metadata": {},
     "output_type": "execute_result"
    }
   ],
   "source": [
    "np.dot(x,y) #matrix multiplication using dot product"
   ]
  },
  {
   "cell_type": "code",
   "execution_count": 12,
   "id": "6b086545",
   "metadata": {},
   "outputs": [
    {
     "data": {
      "text/plain": [
       "np.int64(362880)"
      ]
     },
     "execution_count": 12,
     "metadata": {},
     "output_type": "execute_result"
    }
   ],
   "source": [
    "x.prod() #product of all elements in the array"
   ]
  },
  {
   "cell_type": "code",
   "execution_count": 13,
   "id": "d43e0f5b",
   "metadata": {},
   "outputs": [
    {
     "data": {
      "text/plain": [
       "np.float64(5.0)"
      ]
     },
     "execution_count": 13,
     "metadata": {},
     "output_type": "execute_result"
    }
   ],
   "source": [
    "x.mean() #mean of all elements in the array"
   ]
  },
  {
   "cell_type": "code",
   "execution_count": 14,
   "id": "861038ea",
   "metadata": {},
   "outputs": [
    {
     "data": {
      "text/plain": [
       "np.float64(5.0)"
      ]
     },
     "execution_count": 14,
     "metadata": {},
     "output_type": "execute_result"
    }
   ],
   "source": [
    "y.mean()"
   ]
  },
  {
   "cell_type": "code",
   "execution_count": 15,
   "id": "338c3f38",
   "metadata": {},
   "outputs": [
    {
     "name": "stdout",
     "output_type": "stream",
     "text": [
      "[[7 2 3]\n",
      " [4 5 6]\n",
      " [1 8 9]]\n"
     ]
    }
   ],
   "source": [
    "print(x) "
   ]
  },
  {
   "cell_type": "code",
   "execution_count": 16,
   "id": "8ee519c5",
   "metadata": {},
   "outputs": [
    {
     "data": {
      "text/plain": [
       "array([4., 5., 6.])"
      ]
     },
     "execution_count": 16,
     "metadata": {},
     "output_type": "execute_result"
    }
   ],
   "source": [
    "x.mean(axis=0) #mean of each column"
   ]
  },
  {
   "cell_type": "code",
   "execution_count": 17,
   "id": "ffd86f54",
   "metadata": {},
   "outputs": [
    {
     "data": {
      "text/plain": [
       "array([4., 5., 6.])"
      ]
     },
     "execution_count": 17,
     "metadata": {},
     "output_type": "execute_result"
    }
   ],
   "source": [
    "y.mean(axis=0)"
   ]
  },
  {
   "cell_type": "code",
   "execution_count": 18,
   "id": "62a73381",
   "metadata": {},
   "outputs": [
    {
     "name": "stdout",
     "output_type": "stream",
     "text": [
      "45\n",
      "2.581988897471611\n",
      "6.666666666666667\n"
     ]
    }
   ],
   "source": [
    "print(x.sum()) #sum of all elements in the array\n",
    "print(x.std()) #standard deviation\n",
    "print(x.var()) #variance"
   ]
  },
  {
   "cell_type": "code",
   "execution_count": 19,
   "id": "1734edc3",
   "metadata": {},
   "outputs": [
    {
     "name": "stdout",
     "output_type": "stream",
     "text": [
      "[1 2 3 4 5 6 7 8 9]\n",
      "3.0\n",
      "5.0\n",
      "7.0\n"
     ]
    }
   ],
   "source": [
    "a = np.array([1,2,3,4,5,6,7,8,9])\n",
    "print(a)\n",
    "print(np.percentile(a,25)) #1st quartile\n",
    "print(np.percentile(a,50)) #median\n",
    "print(np.percentile(a,75)) #3rd quartile"
   ]
  },
  {
   "cell_type": "code",
   "execution_count": 20,
   "id": "431fce33",
   "metadata": {},
   "outputs": [
    {
     "name": "stdout",
     "output_type": "stream",
     "text": [
      "[[ 2  7  6  2  9]\n",
      " [ 7  5  9  4  9]\n",
      " [ 4  3 10  4  2]\n",
      " [ 4 10  4  7  5]\n",
      " [ 5  8  8  4  3]]\n"
     ]
    }
   ],
   "source": [
    "b = np.random.randint(1,11,(5,5)) #size of matrix\n",
    "print(b)"
   ]
  },
  {
   "cell_type": "code",
   "execution_count": 21,
   "id": "d8956b53",
   "metadata": {},
   "outputs": [
    {
     "name": "stdout",
     "output_type": "stream",
     "text": [
      "[[90 91 13 34]\n",
      " [54 18 44 90]\n",
      " [45 55 16 31]\n",
      " [55 63 67 65]]\n"
     ]
    }
   ],
   "source": [
    "x = np.random.randint(11,100,(4,4))\n",
    "print(x)"
   ]
  },
  {
   "cell_type": "code",
   "execution_count": 22,
   "id": "5c6d667c",
   "metadata": {},
   "outputs": [
    {
     "name": "stdout",
     "output_type": "stream",
     "text": [
      "[90 91 13 34]\n",
      "91\n",
      "[55 63 67 65]\n",
      "[[90 91 13 34]\n",
      " [54 18 44 90]\n",
      " [45 55 16 31]]\n",
      "[[55 63 67 65]]\n"
     ]
    }
   ],
   "source": [
    "print(x[0]) #1st row\n",
    "print(x[0,1]) #1st row, 2nd column\n",
    "print(x[-1]) #last row\n",
    "\n",
    "print(x[:3]) \n",
    "print(x[3:])"
   ]
  },
  {
   "cell_type": "code",
   "execution_count": null,
   "id": "ca73da46",
   "metadata": {},
   "outputs": [],
   "source": []
  }
 ],
 "metadata": {
  "kernelspec": {
   "display_name": "base",
   "language": "python",
   "name": "python3"
  },
  "language_info": {
   "codemirror_mode": {
    "name": "ipython",
    "version": 3
   },
   "file_extension": ".py",
   "mimetype": "text/x-python",
   "name": "python",
   "nbconvert_exporter": "python",
   "pygments_lexer": "ipython3",
   "version": "3.13.2"
  }
 },
 "nbformat": 4,
 "nbformat_minor": 5
}
